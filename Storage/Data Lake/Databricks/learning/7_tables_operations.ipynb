{
 "cells": [
  {
   "cell_type": "code",
   "execution_count": 0,
   "metadata": {
    "application/vnd.databricks.v1+cell": {
     "cellMetadata": {
      "byteLimit": 2048000,
      "rowLimit": 10000
     },
     "collapsed": true,
     "inputWidgets": {},
     "nuid": "4740aa8b-54d0-416e-bc9c-dda97c56865c",
     "showTitle": false,
     "tableResultSettingsMap": {},
     "title": ""
    }
   },
   "outputs": [],
   "source": [
    "%sql\n",
    "#------------------ MERGE------------------------------\n",
    "CREATE TABLE learning.test.categories_for_merge_updates like learning.test.categories_delta;\n",
    "INSERT INTO learning.test.categories_for_merge_updates\n",
    "values (2,'Condiments_update','Sweet and savory sauces, relishes, spreads, and seasonings'),\n",
    " (22,'new category','aaaa')\n",
    "MERGE INTO learning.test.categories_delta \n",
    "USING learning.test.categories_for_merge_updates\n",
    "ON learning.test.categories_delta.categoryID = learning.test.categories_for_merge_updates.categoryID\n",
    "WHEN MATCHED THEN\n",
    "  UPDATE SET\n",
    "    categoryID = learning.test.categories_for_merge_updates.categoryID,\n",
    "    categoryName = learning.test.categories_for_merge_updates.categoryName\n",
    "WHEN NOT MATCHED\n",
    "  THEN INSERT (\n",
    "    categoryID,\n",
    "    categoryName,\n",
    "    description\n",
    "  )\n",
    "  VALUES (\n",
    "    learning.test.categories_for_merge_updates.categoryID,\n",
    "    learning.test.categories_for_merge_updates.categoryName,\n",
    "    learning.test.categories_for_merge_updates.description\n",
    "  )\n"
   ]
  },
  {
   "cell_type": "code",
   "execution_count": 0,
   "metadata": {
    "application/vnd.databricks.v1+cell": {
     "cellMetadata": {
      "byteLimit": 2048000,
      "rowLimit": 10000
     },
     "inputWidgets": {},
     "nuid": "16d285d0-a527-4f87-8c5f-e38f66a38eb5",
     "showTitle": false,
     "tableResultSettingsMap": {},
     "title": ""
    }
   },
   "outputs": [],
   "source": [
    "\n",
    "%sql\n",
    "INSERT INTO learning.test.categories_for_merge_updates\n",
    "values (2,'Condiments_update2','Sweet and savory sauces, relishes, spreads, and seasonings'),\n",
    " (222,'new category222','bbbb')\n",
    "\n",
    "delete from learning.test.categories_for_merge_updates where categoryName = 'Condiments_update2'\n"
   ]
  },
  {
   "cell_type": "code",
   "execution_count": 0,
   "metadata": {
    "application/vnd.databricks.v1+cell": {
     "cellMetadata": {
      "byteLimit": 2048000,
      "rowLimit": 10000
     },
     "inputWidgets": {},
     "nuid": "15eb0669-c835-4166-af10-2268b74f1847",
     "showTitle": false,
     "tableResultSettingsMap": {},
     "title": ""
    }
   },
   "outputs": [],
   "source": [
    "%python\n",
    "from delta.tables import *\n",
    "categories = DeltaTable.forName(spark, \"learning.test.categories_delta\")\n",
    "categories_for_merge = DeltaTable.forName(spark, \"learning.test.categories_for_merge_updates\")\n",
    "\n",
    "df_categories_merge_update = categories_for_merge.toDF()\n",
    "#df_categories_merge_update.show()\n",
    "\n",
    "categories.alias('categories').merge(df_categories_merge_update.alias('updates'),'categories.categoryID = updates.categoryID' ) \\\n",
    "    .whenMatchedUpdate(set = {\"categoryName\" : \"updates.categoryName\"}) \\\n",
    "    .whenNotMatchedInsert(values = {\n",
    "        \"categoryID\" : \"updates.categoryID\",\n",
    "        \"categoryName\" : \"updates.categoryName\",\n",
    "        \"description\" : \"updates.description\",\n",
    "        }).execute()\n",
    " \n",
    "\n"
   ]
  },
  {
   "cell_type": "code",
   "execution_count": 0,
   "metadata": {
    "application/vnd.databricks.v1+cell": {
     "cellMetadata": {
      "byteLimit": 2048000,
      "rowLimit": 10000
     },
     "collapsed": true,
     "inputWidgets": {},
     "nuid": "b2923c14-7be5-45cd-946c-26ca2c881c52",
     "showTitle": false,
     "tableResultSettingsMap": {},
     "title": ""
    }
   },
   "outputs": [],
   "source": [
    "Delete from learning.test.categories_for_merge_updates; \n",
    "INSERT INTO learning.test.categories_for_merge_updates values (112,'Condiments_update2','desc3');\n",
    " \n",
    "MERGE INTO learning.test.categories_delta \n",
    "USING learning.test.categories_for_merge_updates\n",
    "ON learning.test.categories_delta.categoryID = learning.test.categories_for_merge_updates.categoryID\n",
    "WHEN NOT MATCHED BY SOURCE AND learning.test.categories_delta.categoryID < 3 THEN\n",
    "  UPDATE SET learning.test.categories_delta.description = 'newww'\n"
   ]
  },
  {
   "cell_type": "markdown",
   "metadata": {
    "application/vnd.databricks.v1+cell": {
     "cellMetadata": {},
     "inputWidgets": {},
     "nuid": "fbeb108b-d708-4aff-9f25-3312663a044a",
     "showTitle": false,
     "tableResultSettingsMap": {},
     "title": ""
    }
   },
   "source": [
    "Learning timeintervals:  current_date() - INTERVAL '5' DAY"
   ]
  },
  {
   "cell_type": "code",
   "execution_count": 0,
   "metadata": {
    "application/vnd.databricks.v1+cell": {
     "cellMetadata": {
      "byteLimit": 2048000,
      "rowLimit": 10000
     },
     "collapsed": true,
     "inputWidgets": {},
     "nuid": "c3be1269-80fa-4092-9e5b-490a95a1c02f",
     "showTitle": false,
     "tableResultSettingsMap": {},
     "title": ""
    }
   },
   "outputs": [],
   "source": [
    "%sql\n",
    "ALTER TABLE learning.test.categories_delta ADD COLUMN created_date TIMESTAMP;\n",
    "DELETE FROM learning.test.categories_for_merge_updates;\n",
    "INSERT INTO learning.test.categories_for_merge_updates values (1111,'Condiments_update2','desc3');\n",
    "\n",
    "MERGE INTO learning.test.categories_delta \n",
    "USING learning.test.categories_for_merge_updates\n",
    "ON learning.test.categories_delta.categoryID = learning.test.categories_for_merge_updates.categoryID\n",
    "WHEN NOT MATCHED BY SOURCE THEN\n",
    "  UPDATE SET created_date = current_timestamp() - Interval '3' day;\n",
    "\n",
    "\n",
    "UPDATE learning.test.categories_delta set created_date = current_timestamp() - INTERVAL '33' day where categoryID = 222;\n",
    "\n"
   ]
  },
  {
   "cell_type": "code",
   "execution_count": 0,
   "metadata": {
    "application/vnd.databricks.v1+cell": {
     "cellMetadata": {
      "byteLimit": 2048000,
      "rowLimit": 10000
     },
     "inputWidgets": {},
     "nuid": "69befaef-f9a0-444f-8183-c52533954476",
     "showTitle": false,
     "tableResultSettingsMap": {},
     "title": ""
    }
   },
   "outputs": [],
   "source": [
    "%python\n",
    "from delta.tables import *\n",
    "categories = DeltaTable.forName(spark, \"learning.test.categories_delta\")\n",
    "categories_for_merge = DeltaTable.forName(spark, \"learning.test.categories_for_merge_updates\")\n",
    "df_categories_merge_update = categories_for_merge.toDF()\n",
    "\n",
    "categories.alias('target').merge(df_categories_merge_update.alias('source'), \\\n",
    "    'target.categoryID = source.categoryID') \\\n",
    "        .whenNotMatchedBySourceDelete(condition=\"target.created_date >= current_date() - INTERVAL 7 DAYS\").execute()"
   ]
  }
 ],
 "metadata": {
  "application/vnd.databricks.v1+notebook": {
   "computePreferences": null,
   "dashboards": [],
   "environmentMetadata": {
    "base_environment": "",
    "environment_version": "3"
   },
   "inputWidgetPreferences": null,
   "language": "sql",
   "notebookMetadata": {
    "pythonIndentUnit": 4
   },
   "notebookName": "7_tables_operations",
   "widgets": {}
  },
  "language_info": {
   "name": "sql"
  }
 },
 "nbformat": 4,
 "nbformat_minor": 0
}
