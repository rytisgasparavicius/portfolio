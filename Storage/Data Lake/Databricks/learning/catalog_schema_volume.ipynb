{
 "cells": [
  {
   "cell_type": "code",
   "execution_count": 0,
   "metadata": {
    "application/vnd.databricks.v1+cell": {
     "cellMetadata": {
      "byteLimit": 2048000,
      "implicitDf": true,
      "rowLimit": 10000
     },
     "inputWidgets": {},
     "nuid": "38119857-99aa-4412-8ac8-fcc5942af921",
     "showTitle": false,
     "tableResultSettingsMap": {
      "0": {
       "dataGridStateBlob": "{\"version\":1,\"tableState\":{\"columnPinning\":{\"left\":[\"#row_number#\"],\"right\":[]},\"columnSizing\":{\"path\":437},\"columnVisibility\":{}},\"settings\":{\"columns\":{}},\"syncTimestamp\":1758106675476}",
       "filterBlob": null,
       "queryPlanFiltersBlob": null,
       "tableResultIndex": 0
      }
     },
     "title": ""
    }
   },
   "outputs": [],
   "source": [
    "%sql\n",
    "CREATE CATALOG IF NOT EXISTS learning;\n",
    "USE CATALOG 'learning';\n",
    "CREATE SCHEMA IF NOT EXISTS learning.test_schema;\n",
    "CREATE VOLUME IF NOT EXISTS learning.test_schema.managed_volume;\n",
    "--create external volume:\n",
    "--need to \"Please ensure your workspace is Unity Catalog-enabled and you have the necessary permissions.\"\n",
    "--a) enable permissions b) revoke-readd workspace to Catalog\n",
    "\n",
    "CREATE EXTERNAL VOLUME learning.test_schema.external_volume\n",
    "LOCATION 's3://sa-northwind-csv';\n",
    "\n",
    "LIST '/Volumes/learning/test_schema/managed_volume';\n",
    "LIST '/Volumes/learning/test_schema/external_volume';\n",
    "SELECT * FROM csv.`/Volumes/learning/test_schema/external_volume/categories/categories.csv`;\n"
   ]
  }
 ],
 "metadata": {
  "application/vnd.databricks.v1+notebook": {
   "computePreferences": null,
   "dashboards": [],
   "environmentMetadata": {
    "base_environment": "",
    "environment_version": "3"
   },
   "inputWidgetPreferences": null,
   "language": "sql",
   "notebookMetadata": {
    "mostRecentlyExecutedCommandWithImplicitDF": {
     "commandId": -1,
     "dataframes": [
      "_sqldf"
     ]
    },
    "pythonIndentUnit": 4
   },
   "notebookName": "catalog_schema_volume",
   "widgets": {}
  },
  "language_info": {
   "name": "sql"
  }
 },
 "nbformat": 4,
 "nbformat_minor": 0
}
