{
 "cells": [
  {
   "cell_type": "code",
   "execution_count": 0,
   "metadata": {
    "application/vnd.databricks.v1+cell": {
     "cellMetadata": {
      "byteLimit": 2048000,
      "rowLimit": 10000
     },
     "collapsed": true,
     "inputWidgets": {},
     "nuid": "4740aa8b-54d0-416e-bc9c-dda97c56865c",
     "showTitle": false,
     "tableResultSettingsMap": {},
     "title": ""
    }
   },
   "outputs": [],
   "source": [
    "%sql\n",
    "#------------------ MERGE------------------------------\n",
    "CREATE TABLE learning.test.categories_for_merge_updates like learning.test.categories_delta;\n",
    "INSERT INTO learning.test.categories_for_merge_updates\n",
    "values (2,'Condiments_update','Sweet and savory sauces, relishes, spreads, and seasonings'),\n",
    " (22,'new category','aaaa')\n",
    "MERGE INTO learning.test.categories_delta \n",
    "USING learning.test.categories_for_merge_updates\n",
    "ON learning.test.categories_delta.categoryID = learning.test.categories_for_merge_updates.categoryID\n",
    "WHEN MATCHED THEN\n",
    "  UPDATE SET\n",
    "    categoryID = learning.test.categories_for_merge_updates.categoryID,\n",
    "    categoryName = learning.test.categories_for_merge_updates.categoryName\n",
    "WHEN NOT MATCHED\n",
    "  THEN INSERT (\n",
    "    categoryID,\n",
    "    categoryName,\n",
    "    description\n",
    "  )\n",
    "  VALUES (\n",
    "    learning.test.categories_for_merge_updates.categoryID,\n",
    "    learning.test.categories_for_merge_updates.categoryName,\n",
    "    learning.test.categories_for_merge_updates.description\n",
    "  )\n"
   ]
  },
  {
   "cell_type": "code",
   "execution_count": 0,
   "metadata": {
    "application/vnd.databricks.v1+cell": {
     "cellMetadata": {
      "byteLimit": 2048000,
      "rowLimit": 10000
     },
     "collapsed": true,
     "inputWidgets": {},
     "nuid": "16d285d0-a527-4f87-8c5f-e38f66a38eb5",
     "showTitle": false,
     "tableResultSettingsMap": {},
     "title": ""
    }
   },
   "outputs": [],
   "source": [
    "\n",
    "%sql\n",
    "INSERT INTO learning.test.categories_for_merge_updates\n",
    "values (2,'Condiments_update2','Sweet and savory sauces, relishes, spreads, and seasonings'),\n",
    " (222,'new category222','bbbb')\n",
    "\n",
    "delete from learning.test.categories_for_merge_updates where categoryName = 'Condiments_update2'\n"
   ]
  },
  {
   "cell_type": "code",
   "execution_count": 0,
   "metadata": {
    "application/vnd.databricks.v1+cell": {
     "cellMetadata": {
      "byteLimit": 2048000,
      "rowLimit": 10000
     },
     "collapsed": true,
     "inputWidgets": {},
     "nuid": "15eb0669-c835-4166-af10-2268b74f1847",
     "showTitle": false,
     "tableResultSettingsMap": {},
     "title": ""
    }
   },
   "outputs": [],
   "source": [
    "%python\n",
    "from delta.tables import *\n",
    "categories = DeltaTable.forName(spark, \"learning.test.categories_delta\")\n",
    "categories_for_merge = DeltaTable.forName(spark, \"learning.test.categories_for_merge_updates\")\n",
    "\n",
    "df_categories_merge_update = categories_for_merge.toDF()\n",
    "#df_categories_merge_update.show()\n",
    "\n",
    "categories.alias('categories').merge(df_categories_merge_update.alias('updates'),'categories.categoryID = updates.categoryID' ) \\\n",
    "    .whenMatchedUpdate(set = {\"categoryName\" : \"updates.categoryName\"}) \\\n",
    "    .whenNotMatchedInsert(values = {\n",
    "        \"categoryID\" : \"updates.categoryID\",\n",
    "        \"categoryName\" : \"updates.categoryName\",\n",
    "        \"description\" : \"updates.description\",\n",
    "        }).execute()\n",
    " \n",
    "\n"
   ]
  }
 ],
 "metadata": {
  "application/vnd.databricks.v1+notebook": {
   "computePreferences": null,
   "dashboards": [],
   "environmentMetadata": {
    "base_environment": "",
    "environment_version": "3"
   },
   "inputWidgetPreferences": null,
   "language": "sql",
   "notebookMetadata": {
    "pythonIndentUnit": 4
   },
   "notebookName": "tables_operations",
   "widgets": {}
  },
  "language_info": {
   "name": "sql"
  }
 },
 "nbformat": 4,
 "nbformat_minor": 0
}
