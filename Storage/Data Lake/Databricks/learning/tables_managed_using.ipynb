{
 "cells": [
  {
   "cell_type": "code",
   "execution_count": 0,
   "metadata": {
    "application/vnd.databricks.v1+cell": {
     "cellMetadata": {
      "byteLimit": 2048000,
      "implicitDf": true,
      "rowLimit": 10000
     },
     "inputWidgets": {},
     "nuid": "732cbed4-5a3a-4301-bcfa-395eb39597d1",
     "showTitle": false,
     "tableResultSettingsMap": {},
     "title": ""
    }
   },
   "outputs": [],
   "source": [
    "-- https://docs.databricks.com/aws/en/sql/language-manual/sql-ref-syntax-ddl-create-table-using\n",
    "\n",
    "USE CATALOG 'learning';\n",
    "--------------------------- Create a managed Delta table\n",
    "\n",
    "CREATE TABLE IF NOT EXISTS learning.test_schema.categories_delta\n",
    "(\n",
    "  categoryID int,\n",
    "  categoryName string,\n",
    "  description string\n",
    ") COMMENT 'this is a category table'\n",
    "  TBLPROPERTIES ('type'='category');\n",
    "  -- insert\n",
    "  INSERT INTO learning.test_schema.categories_delta VALUES (11, 'test category','sdfsdf');\n",
    " -- insert from managed volume\n",
    "COPY INTO learning.test_schema.categories_delta\n",
    "FROM '/Volumes/learning/test_schema/managed_volume/categories/'\n",
    "FILEFORMAT = CSV\n",
    "FORMAT_OPTIONS ('header' = 'true', 'inferSchema' = 'true');\n",
    "\n",
    "select * from learning.test_schema.categories_delta;"
   ]
  },
  {
   "cell_type": "code",
   "execution_count": 0,
   "metadata": {
    "application/vnd.databricks.v1+cell": {
     "cellMetadata": {
      "byteLimit": 2048000,
      "rowLimit": 10000
     },
     "collapsed": true,
     "inputWidgets": {},
     "nuid": "c67ad9fd-4efe-4ad6-b8e9-2b2c4cad546d",
     "showTitle": false,
     "tableResultSettingsMap": {},
     "title": ""
    }
   },
   "outputs": [],
   "source": [
    "\n",
    "\n",
    "--------------------------- Create a partitioned managed Delta table\n",
    "USE CATALOG 'learning';\n",
    "CREATE TABLE IF NOT EXISTS learning.test_schema.categories_delta_partitioned\n",
    "(\n",
    "  categoryID int,\n",
    "  categoryName string\n",
    ") COMMENT 'this is a category partitioned table'\n",
    "    PARTITIONED BY (categoryName);\n",
    "\n",
    "  INSERT INTO learning.test_schema.categories_delta_partitioned VALUES (1, 'test category 1');\n",
    "  INSERT INTO learning.test_schema.categories_delta_partitioned VALUES (2, 'test category 2');\n",
    "  INSERT INTO learning.test_schema.categories_delta_partitioned VALUES (3, 'test category 2');\n",
    "  select * from learning.test_schema.categories_delta_partitioned;"
   ]
  }
 ],
 "metadata": {
  "application/vnd.databricks.v1+notebook": {
   "computePreferences": null,
   "dashboards": [],
   "environmentMetadata": {
    "base_environment": "",
    "environment_version": "3"
   },
   "inputWidgetPreferences": null,
   "language": "sql",
   "notebookMetadata": {
    "mostRecentlyExecutedCommandWithImplicitDF": {
     "commandId": -1,
     "dataframes": [
      "_sqldf"
     ]
    },
    "pythonIndentUnit": 4
   },
   "notebookName": "tables_managed_using",
   "widgets": {}
  },
  "language_info": {
   "name": "sql"
  }
 },
 "nbformat": 4,
 "nbformat_minor": 0
}
